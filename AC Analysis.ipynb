{
 "cells": [
  {
   "cell_type": "code",
   "execution_count": 2,
   "id": "db3814d3",
   "metadata": {},
   "outputs": [],
   "source": [
    "import pandas as pd\n",
    "import matplotlib.pyplot as plt\n",
    "import seaborn as sns\n",
    "sns.set(rc={'figure.figsize':(11.7,8.27)})"
   ]
  },
  {
   "cell_type": "code",
   "execution_count": 3,
   "id": "dfc66afe",
   "metadata": {},
   "outputs": [],
   "source": [
    "dd=pd.read_csv(r\"C:\\Users\\abhij\\Desktop\\Semester 3\\Z\\AC_Data (1).csv\")"
   ]
  },
  {
   "cell_type": "code",
   "execution_count": 4,
   "id": "0c9a6d6c",
   "metadata": {},
   "outputs": [],
   "source": [
    "df=dd.copy()"
   ]
  },
  {
   "cell_type": "code",
   "execution_count": 5,
   "id": "c177e7c4",
   "metadata": {},
   "outputs": [],
   "source": [
    "d=dd.copy()"
   ]
  },
  {
   "cell_type": "markdown",
   "id": "3aac90e8",
   "metadata": {},
   "source": [
    "# Q. Which AC was used the most/least?"
   ]
  },
  {
   "cell_type": "markdown",
   "id": "f746a43f",
   "metadata": {},
   "source": [
    "This can be calculated by simply counting the number of columns which have the most filled value in it."
   ]
  },
  {
   "cell_type": "code",
   "execution_count": 6,
   "id": "36aae570",
   "metadata": {},
   "outputs": [],
   "source": [
    "d.fillna(0,inplace=True)\n",
    "d.drop(columns='0',inplace=True)"
   ]
  },
  {
   "cell_type": "code",
   "execution_count": 7,
   "id": "a6440130",
   "metadata": {},
   "outputs": [
    {
     "data": {
      "text/plain": [
       "AC 1     29713\n",
       "AC 2     37554\n",
       "AC 3     38911\n",
       "AC 4     34131\n",
       "AC 5     39517\n",
       "AC 6     34689\n",
       "AC 7     39741\n",
       "AC 8     37083\n",
       "AC 9     40880\n",
       "AC 10    41440\n",
       "AC 11    36709\n",
       "AC 12    38832\n",
       "AC 13    41418\n",
       "AC 14    41950\n",
       "AC 15    39709\n",
       "AC 16    39209\n",
       "AC 17    42735\n",
       "AC 18    42323\n",
       "dtype: int64"
      ]
     },
     "execution_count": 7,
     "metadata": {},
     "output_type": "execute_result"
    }
   ],
   "source": [
    "d[d > 0].count()"
   ]
  },
  {
   "cell_type": "code",
   "execution_count": 8,
   "id": "5c16363c",
   "metadata": {},
   "outputs": [
    {
     "name": "stderr",
     "output_type": "stream",
     "text": [
      "C:\\ESD\\lib\\site-packages\\seaborn\\_decorators.py:36: FutureWarning: Pass the following variables as keyword args: x, y. From version 0.12, the only valid positional argument will be `data`, and passing other arguments without an explicit keyword will result in an error or misinterpretation.\n",
      "  warnings.warn(\n"
     ]
    },
    {
     "data": {
      "text/plain": [
       "Text(0, 0.5, 'Minutes used/2')"
      ]
     },
     "execution_count": 8,
     "metadata": {},
     "output_type": "execute_result"
    },
    {
     "data": {
      "image/png": "[encoded data removed]",
      "text/plain": [
       "<Figure size 842.4x595.44 with 1 Axes>"
      ]
     },
     "metadata": {},
     "output_type": "display_data"
    }
   ],
   "source": [
    "# d[d > 0].count().plot.bar()\n",
    "sns.barplot(d[d > 0].count().index, d[d > 0].count().values)\n",
    "plt.xlabel(\"ACs\")\n",
    "plt.ylabel(\"Minutes used/2\")"
   ]
  },
  {
   "cell_type": "markdown",
   "id": "28a0c78a",
   "metadata": {},
   "source": [
    "# From the analysis, it is concluded that the most used AC is AC 17."
   ]
  },
  {
   "cell_type": "markdown",
   "id": "f041ae06",
   "metadata": {},
   "source": [
    "# Q. Relate this power data with the outside temperature of Gurgaon."
   ]
  },
  {
   "cell_type": "markdown",
   "id": "742587d1",
   "metadata": {},
   "source": [
    "# DATA PRE-PROCESSING"
   ]
  },
  {
   "cell_type": "code",
   "execution_count": 9,
   "id": "8e982e01",
   "metadata": {},
   "outputs": [
    {
     "data": {
      "text/plain": [
       "0            0\n",
       "AC 1     44132\n",
       "AC 2     44129\n",
       "AC 3     44127\n",
       "AC 4     44136\n",
       "AC 5     44124\n",
       "AC 6     44123\n",
       "AC 7     44161\n",
       "AC 8     44136\n",
       "AC 9     44186\n",
       "AC 10    44150\n",
       "AC 11    44170\n",
       "AC 12    44127\n",
       "AC 13    44121\n",
       "AC 14    44144\n",
       "AC 15    44125\n",
       "AC 16    44130\n",
       "AC 17    44126\n",
       "AC 18    44117\n",
       "dtype: int64"
      ]
     },
     "execution_count": 9,
     "metadata": {},
     "output_type": "execute_result"
    }
   ],
   "source": [
    "df.isnull().sum()"
   ]
  },
  {
   "cell_type": "markdown",
   "id": "804e0abd",
   "metadata": {},
   "source": [
    "50% of the loaded data is null"
   ]
  },
  {
   "cell_type": "code",
   "execution_count": 10,
   "id": "f7455c8a",
   "metadata": {},
   "outputs": [
    {
     "data": {
      "text/plain": [
       "(87840, 19)"
      ]
     },
     "execution_count": 10,
     "metadata": {},
     "output_type": "execute_result"
    }
   ],
   "source": [
    "df.shape"
   ]
  },
  {
   "cell_type": "markdown",
   "id": "3747c929",
   "metadata": {},
   "source": [
    "Considering the system has recorded Nan when Ac was not functioning thus Filling the NaN value with 0 "
   ]
  },
  {
   "cell_type": "code",
   "execution_count": 11,
   "id": "3b28f630",
   "metadata": {},
   "outputs": [],
   "source": [
    "df.fillna(0,inplace=True)"
   ]
  },
  {
   "cell_type": "markdown",
   "id": "b19a79d2",
   "metadata": {},
   "source": [
    "Converting object to datetime format"
   ]
  },
  {
   "cell_type": "code",
   "execution_count": 12,
   "id": "29ed0e8b",
   "metadata": {},
   "outputs": [],
   "source": [
    "df['0'] = pd.to_datetime(df['0'])"
   ]
  },
  {
   "cell_type": "markdown",
   "id": "33061bcf",
   "metadata": {},
   "source": [
    "Converting datetime column as index for further analysis"
   ]
  },
  {
   "cell_type": "code",
   "execution_count": 13,
   "id": "27f28b8f",
   "metadata": {},
   "outputs": [],
   "source": [
    "df.set_index('0',inplace=True)"
   ]
  },
  {
   "cell_type": "markdown",
   "id": "018dbfba",
   "metadata": {},
   "source": [
    "Creating columns for calculating a hourly average temperature for the two month of data."
   ]
  },
  {
   "cell_type": "code",
   "execution_count": 14,
   "id": "7eaca0bb",
   "metadata": {},
   "outputs": [],
   "source": [
    "df['year']=df.index.year\n",
    "df['month']=df.index.month\n",
    "df['day']=df.index.day\n",
    "df['hour']=df.index.hour\n",
    "df['Date']=pd.to_datetime(df[['year','month','day','hour']])"
   ]
  },
  {
   "cell_type": "code",
   "execution_count": 15,
   "id": "d55a8853",
   "metadata": {},
   "outputs": [
    {
     "name": "stderr",
     "output_type": "stream",
     "text": [
      "<ipython-input-15-a8bb17c62642>:1: FutureWarning: Indexing with multiple keys (implicitly converted to a tuple of keys) will be deprecated, use a list instead.\n",
      "  dfnew=df.groupby('Date', as_index=False)['AC 1', 'AC 2', 'AC 3', 'AC 4', 'AC 5', 'AC 6', 'AC 7', 'AC 8', 'AC 9','AC 10', 'AC 11',\n"
     ]
    }
   ],
   "source": [
    "dfnew=df.groupby('Date', as_index=False)['AC 1', 'AC 2', 'AC 3', 'AC 4', 'AC 5', 'AC 6', 'AC 7', 'AC 8', 'AC 9','AC 10', 'AC 11', \n",
    "                                         'AC 12', 'AC 13', 'AC 14', 'AC 15', 'AC 16', 'AC 17', 'AC 18'].sum()"
   ]
  },
  {
   "cell_type": "code",
   "execution_count": 16,
   "id": "222891d5",
   "metadata": {},
   "outputs": [],
   "source": [
    "dfnew.set_index('Date',inplace=True)"
   ]
  },
  {
   "cell_type": "markdown",
   "id": "bf5dde15",
   "metadata": {},
   "source": [
    "Hourly data of Gurgaon was downloaded from url: https://power.larc.nasa.gov/data-access-viewer/. Data had columns containing year, month, day, hour and temperature. "
   ]
  },
  {
   "cell_type": "code",
   "execution_count": 17,
   "id": "f952db98",
   "metadata": {},
   "outputs": [],
   "source": [
    "temp=pd.read_csv(r\"C:\\Users\\abhij\\Desktop\\Semester 3\\Z\\POWER_Point_Hourly_20190801_20191001_028d4891N_077d0515E_LST.csv\",skiprows=9)"
   ]
  },
  {
   "cell_type": "markdown",
   "id": "c0a79470",
   "metadata": {},
   "source": [
    "Renaming colmn name and converting column into timestamp"
   ]
  },
  {
   "cell_type": "code",
   "execution_count": 18,
   "id": "a9b4085d",
   "metadata": {},
   "outputs": [],
   "source": [
    "temp=temp.rename(columns={'YEAR':'year', 'MO':'month', 'DY':'day', 'HR':'hour'})"
   ]
  },
  {
   "cell_type": "code",
   "execution_count": 19,
   "id": "ca76f211",
   "metadata": {},
   "outputs": [],
   "source": [
    "temp['Date']=pd.to_datetime(temp[['year','month','day','hour']])"
   ]
  },
  {
   "cell_type": "code",
   "execution_count": 20,
   "id": "9de7a8fd",
   "metadata": {},
   "outputs": [
    {
     "data": {
      "text/plain": [
       "Index(['year', 'month', 'day', 'hour', 'T2M', 'Date'], dtype='object')"
      ]
     },
     "execution_count": 20,
     "metadata": {},
     "output_type": "execute_result"
    }
   ],
   "source": [
    "temp.columns"
   ]
  },
  {
   "cell_type": "code",
   "execution_count": 21,
   "id": "ad9e8b1c",
   "metadata": {},
   "outputs": [],
   "source": [
    "temp.drop(columns=['year', 'month', 'day', 'hour'],inplace=True)"
   ]
  },
  {
   "cell_type": "code",
   "execution_count": 22,
   "id": "4fa6ab08",
   "metadata": {},
   "outputs": [],
   "source": [
    "temp.set_index('Date',inplace=True)"
   ]
  },
  {
   "cell_type": "markdown",
   "id": "e5ab4629",
   "metadata": {},
   "source": [
    "Concatenating both the temprature and Ac power datasets"
   ]
  },
  {
   "cell_type": "code",
   "execution_count": 23,
   "id": "460df147",
   "metadata": {},
   "outputs": [],
   "source": [
    "data=pd.concat([dfnew, temp], axis=1, join=\"inner\")"
   ]
  },
  {
   "cell_type": "code",
   "execution_count": 24,
   "id": "65ebc28e",
   "metadata": {},
   "outputs": [
    {
     "data": {
      "text/plain": [
       "(1464, 19)"
      ]
     },
     "execution_count": 24,
     "metadata": {},
     "output_type": "execute_result"
    }
   ],
   "source": [
    "data.shape"
   ]
  },
  {
   "cell_type": "markdown",
   "id": "9c2e3292",
   "metadata": {},
   "source": [
    "# T2M coloumn has the mean temperature for the hour and ACs column have energy consumption."
   ]
  },
  {
   "cell_type": "markdown",
   "id": "9e2838b9",
   "metadata": {},
   "source": [
    "# Q. METHOD 1 Using the power data, predict/forecast the power consumption?¶"
   ]
  },
  {
   "cell_type": "code",
   "execution_count": 26,
   "id": "06145a01",
   "metadata": {},
   "outputs": [],
   "source": [
    "b=int(input(\"AC number:\"))\n",
    "lis={1:'AC 1', 2:'AC 2', 3:'AC 3', 4:'AC 4', 5:'AC 5', 6:'AC 6', 7:'AC 7', 8:'AC 8', 9:'AC 9',\n",
    "       10:'AC 10', 11:'AC 11', 12:'AC 12', 13:'AC 13', 14:'AC 14',15: 'AC 15', 16:'AC 16', 17:'AC 17',\n",
    "       18:'AC 18'}"
   ]
  },
  {
   "cell_type": "code",
   "execution_count": 27,
   "id": "295b6827",
   "metadata": {},
   "outputs": [],
   "source": [
    "dp=dd.copy()"
   ]
  },
  {
   "cell_type": "code",
   "execution_count": 28,
   "id": "565f89d2",
   "metadata": {},
   "outputs": [
    {
     "data": {
      "text/html": [
       "<div>\n",
       "<style scoped>\n",
       "    .dataframe tbody tr th:only-of-type {\n",
       "        vertical-align: middle;\n",
       "    }\n",
       "\n",
       "    .dataframe tbody tr th {\n",
       "        vertical-align: top;\n",
       "    }\n",
       "\n",
       "    .dataframe thead th {\n",
       "        text-align: right;\n",
       "    }\n",
       "</style>\n",
       "<table border=\"1\" class=\"dataframe\">\n",
       "  <thead>\n",
       "    <tr style=\"text-align: right;\">\n",
       "      <th></th>\n",
       "      <th>0</th>\n",
       "      <th>AC 1</th>\n",
       "      <th>AC 2</th>\n",
       "      <th>AC 3</th>\n",
       "      <th>AC 4</th>\n",
       "      <th>AC 5</th>\n",
       "      <th>AC 6</th>\n",
       "      <th>AC 7</th>\n",
       "      <th>AC 8</th>\n",
       "      <th>AC 9</th>\n",
       "      <th>AC 10</th>\n",
       "      <th>AC 11</th>\n",
       "      <th>AC 12</th>\n",
       "      <th>AC 13</th>\n",
       "      <th>AC 14</th>\n",
       "      <th>AC 15</th>\n",
       "      <th>AC 16</th>\n",
       "      <th>AC 17</th>\n",
       "      <th>AC 18</th>\n",
       "    </tr>\n",
       "  </thead>\n",
       "  <tbody>\n",
       "    <tr>\n",
       "      <th>0</th>\n",
       "      <td>2019-08-01 00:00:00</td>\n",
       "      <td>7.518632</td>\n",
       "      <td>8.788315</td>\n",
       "      <td>0.0</td>\n",
       "      <td>0.0</td>\n",
       "      <td>2.617045</td>\n",
       "      <td>4.079041</td>\n",
       "      <td>2.782276</td>\n",
       "      <td>4.624447</td>\n",
       "      <td>5.222060</td>\n",
       "      <td>2.151238</td>\n",
       "      <td>1.585072</td>\n",
       "      <td>0.560373</td>\n",
       "      <td>3.142941</td>\n",
       "      <td>2.749470</td>\n",
       "      <td>5.417774</td>\n",
       "      <td>4.113460</td>\n",
       "      <td>3.305072</td>\n",
       "      <td>6.735981</td>\n",
       "    </tr>\n",
       "    <tr>\n",
       "      <th>1</th>\n",
       "      <td>2019-08-01 00:01:00</td>\n",
       "      <td>NaN</td>\n",
       "      <td>NaN</td>\n",
       "      <td>NaN</td>\n",
       "      <td>NaN</td>\n",
       "      <td>NaN</td>\n",
       "      <td>NaN</td>\n",
       "      <td>NaN</td>\n",
       "      <td>NaN</td>\n",
       "      <td>NaN</td>\n",
       "      <td>NaN</td>\n",
       "      <td>NaN</td>\n",
       "      <td>NaN</td>\n",
       "      <td>NaN</td>\n",
       "      <td>NaN</td>\n",
       "      <td>NaN</td>\n",
       "      <td>NaN</td>\n",
       "      <td>NaN</td>\n",
       "      <td>NaN</td>\n",
       "    </tr>\n",
       "    <tr>\n",
       "      <th>2</th>\n",
       "      <td>2019-08-01 00:02:00</td>\n",
       "      <td>7.426114</td>\n",
       "      <td>8.940615</td>\n",
       "      <td>0.0</td>\n",
       "      <td>0.0</td>\n",
       "      <td>2.581625</td>\n",
       "      <td>3.781231</td>\n",
       "      <td>2.529366</td>\n",
       "      <td>5.057423</td>\n",
       "      <td>5.349465</td>\n",
       "      <td>2.414715</td>\n",
       "      <td>2.168184</td>\n",
       "      <td>1.818730</td>\n",
       "      <td>3.085110</td>\n",
       "      <td>2.720484</td>\n",
       "      <td>3.302422</td>\n",
       "      <td>3.986483</td>\n",
       "      <td>3.220588</td>\n",
       "      <td>6.379500</td>\n",
       "    </tr>\n",
       "    <tr>\n",
       "      <th>3</th>\n",
       "      <td>2019-08-01 00:03:00</td>\n",
       "      <td>NaN</td>\n",
       "      <td>NaN</td>\n",
       "      <td>NaN</td>\n",
       "      <td>NaN</td>\n",
       "      <td>NaN</td>\n",
       "      <td>NaN</td>\n",
       "      <td>NaN</td>\n",
       "      <td>NaN</td>\n",
       "      <td>NaN</td>\n",
       "      <td>NaN</td>\n",
       "      <td>NaN</td>\n",
       "      <td>NaN</td>\n",
       "      <td>NaN</td>\n",
       "      <td>NaN</td>\n",
       "      <td>NaN</td>\n",
       "      <td>NaN</td>\n",
       "      <td>NaN</td>\n",
       "      <td>NaN</td>\n",
       "    </tr>\n",
       "    <tr>\n",
       "      <th>4</th>\n",
       "      <td>2019-08-01 00:04:00</td>\n",
       "      <td>7.052986</td>\n",
       "      <td>9.161103</td>\n",
       "      <td>0.0</td>\n",
       "      <td>0.0</td>\n",
       "      <td>2.592095</td>\n",
       "      <td>3.800127</td>\n",
       "      <td>2.332304</td>\n",
       "      <td>6.322521</td>\n",
       "      <td>3.995392</td>\n",
       "      <td>2.237114</td>\n",
       "      <td>3.345624</td>\n",
       "      <td>2.310409</td>\n",
       "      <td>3.132799</td>\n",
       "      <td>2.676861</td>\n",
       "      <td>3.539026</td>\n",
       "      <td>3.797881</td>\n",
       "      <td>3.131560</td>\n",
       "      <td>6.363475</td>\n",
       "    </tr>\n",
       "  </tbody>\n",
       "</table>\n",
       "</div>"
      ],
      "text/plain": [
       "                     0      AC 1      AC 2  AC 3  AC 4      AC 5      AC 6  \\\n",
       "0  2019-08-01 00:00:00  7.518632  8.788315   0.0   0.0  2.617045  4.079041   \n",
       "1  2019-08-01 00:01:00       NaN       NaN   NaN   NaN       NaN       NaN   \n",
       "2  2019-08-01 00:02:00  7.426114  8.940615   0.0   0.0  2.581625  3.781231   \n",
       "3  2019-08-01 00:03:00       NaN       NaN   NaN   NaN       NaN       NaN   \n",
       "4  2019-08-01 00:04:00  7.052986  9.161103   0.0   0.0  2.592095  3.800127   \n",
       "\n",
       "       AC 7      AC 8      AC 9     AC 10     AC 11     AC 12     AC 13  \\\n",
       "0  2.782276  4.624447  5.222060  2.151238  1.585072  0.560373  3.142941   \n",
       "1       NaN       NaN       NaN       NaN       NaN       NaN       NaN   \n",
       "2  2.529366  5.057423  5.349465  2.414715  2.168184  1.818730  3.085110   \n",
       "3       NaN       NaN       NaN       NaN       NaN       NaN       NaN   \n",
       "4  2.332304  6.322521  3.995392  2.237114  3.345624  2.310409  3.132799   \n",
       "\n",
       "      AC 14     AC 15     AC 16     AC 17     AC 18  \n",
       "0  2.749470  5.417774  4.113460  3.305072  6.735981  \n",
       "1       NaN       NaN       NaN       NaN       NaN  \n",
       "2  2.720484  3.302422  3.986483  3.220588  6.379500  \n",
       "3       NaN       NaN       NaN       NaN       NaN  \n",
       "4  2.676861  3.539026  3.797881  3.131560  6.363475  "
      ]
     },
     "execution_count": 28,
     "metadata": {},
     "output_type": "execute_result"
    }
   ],
   "source": [
    "dp.head()"
   ]
  },
  {
   "cell_type": "code",
   "execution_count": 29,
   "id": "742a7075",
   "metadata": {},
   "outputs": [
    {
     "data": {
      "text/plain": [
       "0            0\n",
       "AC 1     44132\n",
       "AC 2     44129\n",
       "AC 3     44127\n",
       "AC 4     44136\n",
       "AC 5     44124\n",
       "AC 6     44123\n",
       "AC 7     44161\n",
       "AC 8     44136\n",
       "AC 9     44186\n",
       "AC 10    44150\n",
       "AC 11    44170\n",
       "AC 12    44127\n",
       "AC 13    44121\n",
       "AC 14    44144\n",
       "AC 15    44125\n",
       "AC 16    44130\n",
       "AC 17    44126\n",
       "AC 18    44117\n",
       "dtype: int64"
      ]
     },
     "execution_count": 29,
     "metadata": {},
     "output_type": "execute_result"
    }
   ],
   "source": [
    "dp.isnull().sum()"
   ]
  },
  {
   "cell_type": "markdown",
   "id": "f37be754",
   "metadata": {},
   "source": [
    "50% of the loaded data is null"
   ]
  },
  {
   "cell_type": "markdown",
   "id": "adf2cfb3",
   "metadata": {},
   "source": [
    "Data is recorded in every alternate row. This means that the data is available for every 2 minute period. Thus dropping row if all the AC columns are reporting NaN."
   ]
  },
  {
   "cell_type": "code",
   "execution_count": 30,
   "id": "458ba8ac",
   "metadata": {},
   "outputs": [],
   "source": [
    "dp.dropna(subset=['AC 1', 'AC 2', 'AC 3', 'AC 4', 'AC 5', 'AC 6', 'AC 7', 'AC 8',\n",
    "       'AC 9', 'AC 10', 'AC 11', 'AC 12', 'AC 13', 'AC 14', 'AC 15', 'AC 16',\n",
    "       'AC 17', 'AC 18'], how='all',inplace=True)"
   ]
  },
  {
   "cell_type": "code",
   "execution_count": 31,
   "id": "4c0a07fe",
   "metadata": {},
   "outputs": [
    {
     "data": {
      "text/plain": [
       "(51979, 19)"
      ]
     },
     "execution_count": 31,
     "metadata": {},
     "output_type": "execute_result"
    }
   ],
   "source": [
    "dp.shape"
   ]
  },
  {
   "cell_type": "markdown",
   "id": "a590356b",
   "metadata": {},
   "source": [
    "Thus the data observation have reduced from 87840 to 51979.\n"
   ]
  },
  {
   "cell_type": "code",
   "execution_count": 32,
   "id": "85a72edc",
   "metadata": {},
   "outputs": [
    {
     "data": {
      "text/html": [
       "<div>\n",
       "<style scoped>\n",
       "    .dataframe tbody tr th:only-of-type {\n",
       "        vertical-align: middle;\n",
       "    }\n",
       "\n",
       "    .dataframe tbody tr th {\n",
       "        vertical-align: top;\n",
       "    }\n",
       "\n",
       "    .dataframe thead th {\n",
       "        text-align: right;\n",
       "    }\n",
       "</style>\n",
       "<table border=\"1\" class=\"dataframe\">\n",
       "  <thead>\n",
       "    <tr style=\"text-align: right;\">\n",
       "      <th></th>\n",
       "      <th>0</th>\n",
       "      <th>AC 1</th>\n",
       "      <th>AC 2</th>\n",
       "      <th>AC 3</th>\n",
       "      <th>AC 4</th>\n",
       "      <th>AC 5</th>\n",
       "      <th>AC 6</th>\n",
       "      <th>AC 7</th>\n",
       "      <th>AC 8</th>\n",
       "      <th>AC 9</th>\n",
       "      <th>AC 10</th>\n",
       "      <th>AC 11</th>\n",
       "      <th>AC 12</th>\n",
       "      <th>AC 13</th>\n",
       "      <th>AC 14</th>\n",
       "      <th>AC 15</th>\n",
       "      <th>AC 16</th>\n",
       "      <th>AC 17</th>\n",
       "      <th>AC 18</th>\n",
       "    </tr>\n",
       "  </thead>\n",
       "  <tbody>\n",
       "    <tr>\n",
       "      <th>0</th>\n",
       "      <td>2019-08-01 00:00:00</td>\n",
       "      <td>7.518632</td>\n",
       "      <td>8.788315</td>\n",
       "      <td>0.0</td>\n",
       "      <td>0.0</td>\n",
       "      <td>2.617045</td>\n",
       "      <td>4.079041</td>\n",
       "      <td>2.782276</td>\n",
       "      <td>4.624447</td>\n",
       "      <td>5.222060</td>\n",
       "      <td>2.151238</td>\n",
       "      <td>1.585072</td>\n",
       "      <td>0.560373</td>\n",
       "      <td>3.142941</td>\n",
       "      <td>2.749470</td>\n",
       "      <td>5.417774</td>\n",
       "      <td>4.113460</td>\n",
       "      <td>3.305072</td>\n",
       "      <td>6.735981</td>\n",
       "    </tr>\n",
       "    <tr>\n",
       "      <th>2</th>\n",
       "      <td>2019-08-01 00:02:00</td>\n",
       "      <td>7.426114</td>\n",
       "      <td>8.940615</td>\n",
       "      <td>0.0</td>\n",
       "      <td>0.0</td>\n",
       "      <td>2.581625</td>\n",
       "      <td>3.781231</td>\n",
       "      <td>2.529366</td>\n",
       "      <td>5.057423</td>\n",
       "      <td>5.349465</td>\n",
       "      <td>2.414715</td>\n",
       "      <td>2.168184</td>\n",
       "      <td>1.818730</td>\n",
       "      <td>3.085110</td>\n",
       "      <td>2.720484</td>\n",
       "      <td>3.302422</td>\n",
       "      <td>3.986483</td>\n",
       "      <td>3.220588</td>\n",
       "      <td>6.379500</td>\n",
       "    </tr>\n",
       "    <tr>\n",
       "      <th>4</th>\n",
       "      <td>2019-08-01 00:04:00</td>\n",
       "      <td>7.052986</td>\n",
       "      <td>9.161103</td>\n",
       "      <td>0.0</td>\n",
       "      <td>0.0</td>\n",
       "      <td>2.592095</td>\n",
       "      <td>3.800127</td>\n",
       "      <td>2.332304</td>\n",
       "      <td>6.322521</td>\n",
       "      <td>3.995392</td>\n",
       "      <td>2.237114</td>\n",
       "      <td>3.345624</td>\n",
       "      <td>2.310409</td>\n",
       "      <td>3.132799</td>\n",
       "      <td>2.676861</td>\n",
       "      <td>3.539026</td>\n",
       "      <td>3.797881</td>\n",
       "      <td>3.131560</td>\n",
       "      <td>6.363475</td>\n",
       "    </tr>\n",
       "    <tr>\n",
       "      <th>6</th>\n",
       "      <td>2019-08-01 00:06:00</td>\n",
       "      <td>6.665446</td>\n",
       "      <td>9.065626</td>\n",
       "      <td>0.0</td>\n",
       "      <td>0.0</td>\n",
       "      <td>2.575639</td>\n",
       "      <td>3.772891</td>\n",
       "      <td>2.596200</td>\n",
       "      <td>5.805132</td>\n",
       "      <td>3.553778</td>\n",
       "      <td>1.878356</td>\n",
       "      <td>2.737645</td>\n",
       "      <td>2.510972</td>\n",
       "      <td>3.090007</td>\n",
       "      <td>2.666604</td>\n",
       "      <td>4.607439</td>\n",
       "      <td>3.062610</td>\n",
       "      <td>3.063953</td>\n",
       "      <td>6.127366</td>\n",
       "    </tr>\n",
       "    <tr>\n",
       "      <th>8</th>\n",
       "      <td>2019-08-01 00:08:00</td>\n",
       "      <td>6.674838</td>\n",
       "      <td>9.096130</td>\n",
       "      <td>0.0</td>\n",
       "      <td>0.0</td>\n",
       "      <td>2.021472</td>\n",
       "      <td>3.155697</td>\n",
       "      <td>2.845417</td>\n",
       "      <td>6.315060</td>\n",
       "      <td>3.042244</td>\n",
       "      <td>1.914650</td>\n",
       "      <td>2.452500</td>\n",
       "      <td>2.171791</td>\n",
       "      <td>3.097202</td>\n",
       "      <td>2.710572</td>\n",
       "      <td>5.332696</td>\n",
       "      <td>2.640150</td>\n",
       "      <td>2.864680</td>\n",
       "      <td>5.662474</td>\n",
       "    </tr>\n",
       "  </tbody>\n",
       "</table>\n",
       "</div>"
      ],
      "text/plain": [
       "                     0      AC 1      AC 2  AC 3  AC 4      AC 5      AC 6  \\\n",
       "0  2019-08-01 00:00:00  7.518632  8.788315   0.0   0.0  2.617045  4.079041   \n",
       "2  2019-08-01 00:02:00  7.426114  8.940615   0.0   0.0  2.581625  3.781231   \n",
       "4  2019-08-01 00:04:00  7.052986  9.161103   0.0   0.0  2.592095  3.800127   \n",
       "6  2019-08-01 00:06:00  6.665446  9.065626   0.0   0.0  2.575639  3.772891   \n",
       "8  2019-08-01 00:08:00  6.674838  9.096130   0.0   0.0  2.021472  3.155697   \n",
       "\n",
       "       AC 7      AC 8      AC 9     AC 10     AC 11     AC 12     AC 13  \\\n",
       "0  2.782276  4.624447  5.222060  2.151238  1.585072  0.560373  3.142941   \n",
       "2  2.529366  5.057423  5.349465  2.414715  2.168184  1.818730  3.085110   \n",
       "4  2.332304  6.322521  3.995392  2.237114  3.345624  2.310409  3.132799   \n",
       "6  2.596200  5.805132  3.553778  1.878356  2.737645  2.510972  3.090007   \n",
       "8  2.845417  6.315060  3.042244  1.914650  2.452500  2.171791  3.097202   \n",
       "\n",
       "      AC 14     AC 15     AC 16     AC 17     AC 18  \n",
       "0  2.749470  5.417774  4.113460  3.305072  6.735981  \n",
       "2  2.720484  3.302422  3.986483  3.220588  6.379500  \n",
       "4  2.676861  3.539026  3.797881  3.131560  6.363475  \n",
       "6  2.666604  4.607439  3.062610  3.063953  6.127366  \n",
       "8  2.710572  5.332696  2.640150  2.864680  5.662474  "
      ]
     },
     "execution_count": 32,
     "metadata": {},
     "output_type": "execute_result"
    }
   ],
   "source": [
    "dp.head()"
   ]
  },
  {
   "cell_type": "code",
   "execution_count": 33,
   "id": "d58fa8da",
   "metadata": {},
   "outputs": [],
   "source": [
    "dp['0'] = pd.to_datetime(dp['0'], errors='coerce')"
   ]
  },
  {
   "cell_type": "markdown",
   "id": "a04232f9",
   "metadata": {},
   "source": [
    "Time series feature"
   ]
  },
  {
   "cell_type": "code",
   "execution_count": 34,
   "id": "5c5cf30a",
   "metadata": {},
   "outputs": [
    {
     "name": "stderr",
     "output_type": "stream",
     "text": [
      "<ipython-input-34-70a6b739b8a7>:7: FutureWarning: Series.dt.weekofyear and Series.dt.week have been deprecated.  Please use Series.dt.isocalendar().week instead.\n",
      "  dp['woy'] = dp['0'].dt.weekofyear\n"
     ]
    }
   ],
   "source": [
    "dp['dow']=dp['0'].dt.dayofweek \n",
    "dp['doy'] = dp['0'].dt.dayofyear\n",
    "dp['year'] = dp['0'].dt.year\n",
    "dp['month'] = dp['0'].dt.month\n",
    "dp['quarter'] = dp['0'].dt.quarter\n",
    "dp['hour'] = dp['0'].dt.hour\n",
    "dp['woy'] = dp['0'].dt.weekofyear\n",
    "dp['dom'] = dp['0'].dt.day # Day of Month\n",
    "dp['date'] = dp['0'].dt.date \n",
    "dp['minutes'] = dp['0'].dt.minute"
   ]
  },
  {
   "cell_type": "code",
   "execution_count": 35,
   "id": "e2b18a01",
   "metadata": {},
   "outputs": [
    {
     "data": {
      "text/plain": [
       "<AxesSubplot:xlabel='hour', ylabel='AC 2'>"
      ]
     },
     "execution_count": 35,
     "metadata": {},
     "output_type": "execute_result"
    },
    {
     "data": {
      "image/png": "[encoded data removed]",
      "text/plain": [
       "<Figure size 842.4x595.44 with 1 Axes>"
      ]
     },
     "metadata": {},
     "output_type": "display_data"
    }
   ],
   "source": [
    "sns.boxplot(x=dp['hour'],y=dp[lis[b]])"
   ]
  },
  {
   "cell_type": "markdown",
   "id": "8437425d",
   "metadata": {},
   "source": [
    "From the boxplot we can infer that the consumption dips in the afternoon and is lowest in 12:00 which can be due to the change over time of the hotel or can be due the working residence."
   ]
  },
  {
   "cell_type": "code",
   "execution_count": 36,
   "id": "97a57640",
   "metadata": {},
   "outputs": [
    {
     "data": {
      "text/plain": [
       "<AxesSubplot:xlabel='date', ylabel='AC 2'>"
      ]
     },
     "execution_count": 36,
     "metadata": {},
     "output_type": "execute_result"
    },
    {
     "data": {
      "image/png": "[encoded data removed]",
      "text/plain": [
       "<Figure size 842.4x595.44 with 1 Axes>"
      ]
     },
     "metadata": {},
     "output_type": "display_data"
    }
   ],
   "source": [
    "sns.boxplot(x=dp['date'],y=dp[lis[b]])"
   ]
  },
  {
   "cell_type": "code",
   "execution_count": 37,
   "id": "dae566e9",
   "metadata": {},
   "outputs": [
    {
     "data": {
      "text/html": [
       "<div>\n",
       "<style scoped>\n",
       "    .dataframe tbody tr th:only-of-type {\n",
       "        vertical-align: middle;\n",
       "    }\n",
       "\n",
       "    .dataframe tbody tr th {\n",
       "        vertical-align: top;\n",
       "    }\n",
       "\n",
       "    .dataframe thead th {\n",
       "        text-align: right;\n",
       "    }\n",
       "</style>\n",
       "<table border=\"1\" class=\"dataframe\">\n",
       "  <thead>\n",
       "    <tr style=\"text-align: right;\">\n",
       "      <th></th>\n",
       "      <th>0</th>\n",
       "      <th>AC 1</th>\n",
       "      <th>AC 2</th>\n",
       "      <th>AC 3</th>\n",
       "      <th>AC 4</th>\n",
       "      <th>AC 5</th>\n",
       "      <th>AC 6</th>\n",
       "      <th>AC 7</th>\n",
       "      <th>AC 8</th>\n",
       "      <th>AC 9</th>\n",
       "      <th>...</th>\n",
       "      <th>dow</th>\n",
       "      <th>doy</th>\n",
       "      <th>year</th>\n",
       "      <th>month</th>\n",
       "      <th>quarter</th>\n",
       "      <th>hour</th>\n",
       "      <th>woy</th>\n",
       "      <th>dom</th>\n",
       "      <th>date</th>\n",
       "      <th>minutes</th>\n",
       "    </tr>\n",
       "  </thead>\n",
       "  <tbody>\n",
       "    <tr>\n",
       "      <th>0</th>\n",
       "      <td>2019-08-01 00:00:00</td>\n",
       "      <td>7.518632</td>\n",
       "      <td>8.788315</td>\n",
       "      <td>0.0</td>\n",
       "      <td>0.0</td>\n",
       "      <td>2.617045</td>\n",
       "      <td>4.079041</td>\n",
       "      <td>2.782276</td>\n",
       "      <td>4.624447</td>\n",
       "      <td>5.222060</td>\n",
       "      <td>...</td>\n",
       "      <td>3</td>\n",
       "      <td>213</td>\n",
       "      <td>2019</td>\n",
       "      <td>8</td>\n",
       "      <td>3</td>\n",
       "      <td>0</td>\n",
       "      <td>31</td>\n",
       "      <td>1</td>\n",
       "      <td>2019-08-01</td>\n",
       "      <td>0</td>\n",
       "    </tr>\n",
       "    <tr>\n",
       "      <th>2</th>\n",
       "      <td>2019-08-01 00:02:00</td>\n",
       "      <td>7.426114</td>\n",
       "      <td>8.940615</td>\n",
       "      <td>0.0</td>\n",
       "      <td>0.0</td>\n",
       "      <td>2.581625</td>\n",
       "      <td>3.781231</td>\n",
       "      <td>2.529366</td>\n",
       "      <td>5.057423</td>\n",
       "      <td>5.349465</td>\n",
       "      <td>...</td>\n",
       "      <td>3</td>\n",
       "      <td>213</td>\n",
       "      <td>2019</td>\n",
       "      <td>8</td>\n",
       "      <td>3</td>\n",
       "      <td>0</td>\n",
       "      <td>31</td>\n",
       "      <td>1</td>\n",
       "      <td>2019-08-01</td>\n",
       "      <td>2</td>\n",
       "    </tr>\n",
       "    <tr>\n",
       "      <th>4</th>\n",
       "      <td>2019-08-01 00:04:00</td>\n",
       "      <td>7.052986</td>\n",
       "      <td>9.161103</td>\n",
       "      <td>0.0</td>\n",
       "      <td>0.0</td>\n",
       "      <td>2.592095</td>\n",
       "      <td>3.800127</td>\n",
       "      <td>2.332304</td>\n",
       "      <td>6.322521</td>\n",
       "      <td>3.995392</td>\n",
       "      <td>...</td>\n",
       "      <td>3</td>\n",
       "      <td>213</td>\n",
       "      <td>2019</td>\n",
       "      <td>8</td>\n",
       "      <td>3</td>\n",
       "      <td>0</td>\n",
       "      <td>31</td>\n",
       "      <td>1</td>\n",
       "      <td>2019-08-01</td>\n",
       "      <td>4</td>\n",
       "    </tr>\n",
       "    <tr>\n",
       "      <th>6</th>\n",
       "      <td>2019-08-01 00:06:00</td>\n",
       "      <td>6.665446</td>\n",
       "      <td>9.065626</td>\n",
       "      <td>0.0</td>\n",
       "      <td>0.0</td>\n",
       "      <td>2.575639</td>\n",
       "      <td>3.772891</td>\n",
       "      <td>2.596200</td>\n",
       "      <td>5.805132</td>\n",
       "      <td>3.553778</td>\n",
       "      <td>...</td>\n",
       "      <td>3</td>\n",
       "      <td>213</td>\n",
       "      <td>2019</td>\n",
       "      <td>8</td>\n",
       "      <td>3</td>\n",
       "      <td>0</td>\n",
       "      <td>31</td>\n",
       "      <td>1</td>\n",
       "      <td>2019-08-01</td>\n",
       "      <td>6</td>\n",
       "    </tr>\n",
       "    <tr>\n",
       "      <th>8</th>\n",
       "      <td>2019-08-01 00:08:00</td>\n",
       "      <td>6.674838</td>\n",
       "      <td>9.096130</td>\n",
       "      <td>0.0</td>\n",
       "      <td>0.0</td>\n",
       "      <td>2.021472</td>\n",
       "      <td>3.155697</td>\n",
       "      <td>2.845417</td>\n",
       "      <td>6.315060</td>\n",
       "      <td>3.042244</td>\n",
       "      <td>...</td>\n",
       "      <td>3</td>\n",
       "      <td>213</td>\n",
       "      <td>2019</td>\n",
       "      <td>8</td>\n",
       "      <td>3</td>\n",
       "      <td>0</td>\n",
       "      <td>31</td>\n",
       "      <td>1</td>\n",
       "      <td>2019-08-01</td>\n",
       "      <td>8</td>\n",
       "    </tr>\n",
       "  </tbody>\n",
       "</table>\n",
       "<p>5 rows × 29 columns</p>\n",
       "</div>"
      ],
      "text/plain": [
       "                    0      AC 1      AC 2  AC 3  AC 4      AC 5      AC 6  \\\n",
       "0 2019-08-01 00:00:00  7.518632  8.788315   0.0   0.0  2.617045  4.079041   \n",
       "2 2019-08-01 00:02:00  7.426114  8.940615   0.0   0.0  2.581625  3.781231   \n",
       "4 2019-08-01 00:04:00  7.052986  9.161103   0.0   0.0  2.592095  3.800127   \n",
       "6 2019-08-01 00:06:00  6.665446  9.065626   0.0   0.0  2.575639  3.772891   \n",
       "8 2019-08-01 00:08:00  6.674838  9.096130   0.0   0.0  2.021472  3.155697   \n",
       "\n",
       "       AC 7      AC 8      AC 9  ...  dow  doy  year  month  quarter  hour  \\\n",
       "0  2.782276  4.624447  5.222060  ...    3  213  2019      8        3     0   \n",
       "2  2.529366  5.057423  5.349465  ...    3  213  2019      8        3     0   \n",
       "4  2.332304  6.322521  3.995392  ...    3  213  2019      8        3     0   \n",
       "6  2.596200  5.805132  3.553778  ...    3  213  2019      8        3     0   \n",
       "8  2.845417  6.315060  3.042244  ...    3  213  2019      8        3     0   \n",
       "\n",
       "   woy  dom        date  minutes  \n",
       "0   31    1  2019-08-01        0  \n",
       "2   31    1  2019-08-01        2  \n",
       "4   31    1  2019-08-01        4  \n",
       "6   31    1  2019-08-01        6  \n",
       "8   31    1  2019-08-01        8  \n",
       "\n",
       "[5 rows x 29 columns]"
      ]
     },
     "execution_count": 37,
     "metadata": {},
     "output_type": "execute_result"
    }
   ],
   "source": [
    "dp.head()"
   ]
  },
  {
   "cell_type": "code",
   "execution_count": 38,
   "id": "491b3647",
   "metadata": {},
   "outputs": [
    {
     "name": "stdout",
     "output_type": "stream",
     "text": [
      "Shapes: \n",
      "Training set: (34942, 1, 25), Testing set: (8717, 1, 25)\n",
      "Sample from training set: \n",
      "[[0.78839195 0.8020546  0.82183427 0.8132692  0.8160056  0.8107203\n",
      "  0.81141156 0.8154903  0.8172436  0.7319207  0.7143299  0.7639572\n",
      "  0.77476776 0.7644021  0.7612914  0.79969805 0.7715573  0.7129581\n",
      "  0.6534385  0.7291006  0.7966978  0.5578928  0.6212635  0.6880666\n",
      "  0.7465449 ]]\n"
     ]
    }
   ],
   "source": [
    "import numpy as np\n",
    "from sklearn.preprocessing import MinMaxScaler\n",
    "tempa = dd.copy() # make temporary copy of dataframe\n",
    "# dataset = tempa['total load actual'].dropna().values # numpy.ndarray of the actual load\n",
    "dataset =dp[lis[b]].dropna().values\n",
    "dataset = dataset.astype('float32') \n",
    "dataset = np.reshape(dataset, (-1, 1)) # reshape to one feature; required for the models\n",
    "\n",
    "scaler = MinMaxScaler(feature_range=(0, 1)) # Min Max scaler\n",
    "dataset = scaler.fit_transform(dataset) # fit and transform the dataset\n",
    "\n",
    "# Train and Test splits\n",
    "train_size = int(len(dataset) * 0.80) \n",
    "test_size = len(dataset) - train_size\n",
    "train, test = dataset[0:train_size,:], dataset[train_size:len(dataset),:]\n",
    "\n",
    "def create_dataset(dataset, look_back=1):\n",
    "    X, Y = [], []\n",
    "    for i in range(len(dataset)-look_back-1):\n",
    "        a = dataset[i:(i+look_back), 0]\n",
    "        X.append(a)\n",
    "        Y.append(dataset[i + look_back, 0])\n",
    "    return np.array(X), np.array(Y)\n",
    "    \n",
    "look_back = 25 # timesteps to lookback for predictions\n",
    "X_train, trainY = create_dataset(train, look_back)\n",
    "X_test, testY = create_dataset(test, look_back)\n",
    "\n",
    "# reshape input to be [samples, time steps, features]\n",
    "X_train = np.reshape(X_train, (X_train.shape[0], 1, X_train.shape[1]))\n",
    "X_test = np.reshape(X_test, (X_test.shape[0], 1, X_test.shape[1]))\n",
    "print(\"Shapes: \\nTraining set: {}, Testing set: {}\".format(X_train.shape, X_test.shape))\n",
    "print(\"Sample from training set: \\n{}\".format(X_train[0]))"
   ]
  },
  {
   "cell_type": "markdown",
   "id": "c2a362a1",
   "metadata": {},
   "source": [
    "Models and their MAPE\n",
    "Here we test various models and visualize their predictions. Models used are:\n",
    "\n",
    "AutoRegressive\n",
    "\n",
    "An autoregressive (AR) model predicts future behavior based on past behavior. The process is basically a linear regression of the data in the current series against one or more past values in the same series."
   ]
  },
  {
   "cell_type": "code",
   "execution_count": 39,
   "id": "fc9ba193",
   "metadata": {},
   "outputs": [
    {
     "name": "stderr",
     "output_type": "stream",
     "text": [
      "C:\\ESD\\lib\\site-packages\\statsmodels\\tsa\\ar_model.py:791: FutureWarning: \n",
      "statsmodels.tsa.AR has been deprecated in favor of statsmodels.tsa.AutoReg and\n",
      "statsmodels.tsa.SARIMAX.\n",
      "\n",
      "AutoReg adds the ability to specify exogenous variables, include time trends,\n",
      "and add seasonal dummies. The AutoReg API differs from AR since the model is\n",
      "treated as immutable, and so the entire specification including the lag\n",
      "length must be specified when creating the model. This change is too\n",
      "substantial to incorporate into the existing AR api. The function\n",
      "ar_select_order performs lag length selection for AutoReg models.\n",
      "\n",
      "AutoReg only estimates parameters using conditional MLE (OLS). Use SARIMAX to\n",
      "estimate ARX and related models using full MLE via the Kalman Filter.\n",
      "\n",
      "To silence this warning and continue using AR until it is removed, use:\n",
      "\n",
      "import warnings\n",
      "warnings.filterwarnings('ignore', 'statsmodels.tsa.ar_model.AR', FutureWarning)\n",
      "\n",
      "  warnings.warn(AR_DEPRECATION_WARN, FutureWarning)\n"
     ]
    }
   ],
   "source": [
    "from statsmodels.tsa.ar_model import AR\n",
    "\n",
    "model = AR(train)\n",
    "model_fit = model.fit()"
   ]
  },
  {
   "cell_type": "code",
   "execution_count": 41,
   "id": "5d928a3e",
   "metadata": {},
   "outputs": [
    {
     "name": "stdout",
     "output_type": "stream",
     "text": [
      "Test Mean Absolute Error: 1.8418994379888112\n"
     ]
    }
   ],
   "source": [
    "from sklearn.metrics import mean_absolute_error\n",
    "test_predict = model_fit.predict(start=len(train), end=len(train)+len(test)-1, dynamic=False)\n",
    "# invert predictions\n",
    "test_predict = scaler.inverse_transform(test_predict.reshape(-1, 1))\n",
    "Y_test = scaler.inverse_transform(test)\n",
    "print('Test Mean Absolute Error:', mean_absolute_error(Y_test, test_predict))\n",
    "# print('Test Root Mean Squared Error:',np.sqrt(mean_squared_error(Y_test, test_predict)))"
   ]
  },
  {
   "cell_type": "code",
   "execution_count": 44,
   "id": "a14937c0",
   "metadata": {},
   "outputs": [
    {
     "data": {
      "image/png": "[encoded data removed]",
      "text/plain": [
       "<Figure size 576x288 with 1 Axes>"
      ]
     },
     "metadata": {},
     "output_type": "display_data"
    }
   ],
   "source": [
    "idx = 200\n",
    "aa=[x for x in range(idx)]\n",
    "plt.figure(figsize=(8,4))\n",
    "plt.plot(aa, Y_test[:idx], marker='.', label=\"actual\")\n",
    "plt.plot(aa, test_predict[:idx], 'r', label=\"prediction\")\n",
    "# plt.tick_params(left=False, labelleft=True) #remove ticks\n",
    "plt.tight_layout()\n",
    "sns.despine(top=True)\n",
    "plt.subplots_adjust(left=0.07)\n",
    "plt.ylabel('TOTAL Load', size=15)\n",
    "plt.xlabel('Time step', size=15)\n",
    "plt.legend(fontsize=15)\n",
    "plt.show();"
   ]
  },
  {
   "cell_type": "markdown",
   "id": "5572e84a",
   "metadata": {},
   "source": [
    "# METHOD 2: Using the power data, predict/forecast the power consumption?"
   ]
  },
  {
   "cell_type": "markdown",
   "id": "0ed4d525",
   "metadata": {},
   "source": [
    "In this method i have build a regression model for the user input ACs predicting consumption for a given temperature."
   ]
  },
  {
   "cell_type": "code",
   "execution_count": null,
   "id": "0964f13e",
   "metadata": {},
   "outputs": [],
   "source": [
    "a=int(input(\"AC number:\"))"
   ]
  },
  {
   "cell_type": "code",
   "execution_count": null,
   "id": "06d67f09",
   "metadata": {},
   "outputs": [],
   "source": [
    "pre=data.copy()"
   ]
  },
  {
   "cell_type": "code",
   "execution_count": null,
   "id": "9f0fdc72",
   "metadata": {},
   "outputs": [],
   "source": [
    "sns.scatterplot(pre[li[a]], pre['T2M'])"
   ]
  },
  {
   "cell_type": "code",
   "execution_count": null,
   "id": "c24431f5",
   "metadata": {},
   "outputs": [],
   "source": [
    "li={1:'AC 1', 2:'AC 2', 3:'AC 3', 4:'AC 4', 5:'AC 5', 6:'AC 6', 7:'AC 7', 8:'AC 8', 9:'AC 9',\n",
    "       10:'AC 10', 11:'AC 11', 12:'AC 12', 13:'AC 13', 14:'AC 14',15: 'AC 15', 16:'AC 16', 17:'AC 17',\n",
    "       18:'AC 18'}"
   ]
  },
  {
   "cell_type": "code",
   "execution_count": null,
   "id": "c54b3e7d",
   "metadata": {},
   "outputs": [],
   "source": [
    "x=pre[li[a]].reset_index(drop=True).values"
   ]
  },
  {
   "cell_type": "code",
   "execution_count": null,
   "id": "6bbf6673",
   "metadata": {},
   "outputs": [],
   "source": [
    "y=pre['T2M']"
   ]
  },
  {
   "cell_type": "code",
   "execution_count": null,
   "id": "4654b60f",
   "metadata": {},
   "outputs": [],
   "source": [
    "x=x.reshape(-1,1)"
   ]
  },
  {
   "cell_type": "code",
   "execution_count": null,
   "id": "ba68eb94",
   "metadata": {},
   "outputs": [],
   "source": [
    "from sklearn.model_selection import train_test_split\n",
    "x_train,x_test,y_train,y_test=train_test_split(x,y,test_size=0.2)"
   ]
  },
  {
   "cell_type": "code",
   "execution_count": null,
   "id": "9a662cf3",
   "metadata": {},
   "outputs": [],
   "source": [
    "from sklearn.linear_model import LinearRegression\n",
    "regressor=LinearRegression()\n",
    "regressor.fit(x_train,y_train)"
   ]
  },
  {
   "cell_type": "code",
   "execution_count": null,
   "id": "1ac268e8",
   "metadata": {},
   "outputs": [],
   "source": [
    "y_pred=regressor.predict(x_test)"
   ]
  },
  {
   "cell_type": "code",
   "execution_count": null,
   "id": "834df878",
   "metadata": {},
   "outputs": [],
   "source": [
    "from sklearn.metrics import r2_score\n",
    "r2_score(y_test,y_pred)"
   ]
  },
  {
   "cell_type": "markdown",
   "id": "570c2067",
   "metadata": {},
   "source": [
    "Here I have used the regression algorithm to predict the consumption of the specific AC selected for a given atmostpheric temperature"
   ]
  },
  {
   "cell_type": "markdown",
   "id": "e37c1f7d",
   "metadata": {},
   "source": [
    "# Identify patterns/trends in the data?"
   ]
  },
  {
   "cell_type": "code",
   "execution_count": 45,
   "id": "105c0efc",
   "metadata": {},
   "outputs": [
    {
     "name": "stdout",
     "output_type": "stream",
     "text": [
      "AC number:5\n"
     ]
    }
   ],
   "source": [
    "c=int(input(\"AC number:\"))\n",
    "liste={1:'AC 1', 2:'AC 2', 3:'AC 3', 4:'AC 4', 5:'AC 5', 6:'AC 6', 7:'AC 7', 8:'AC 8', 9:'AC 9',\n",
    "       10:'AC 10', 11:'AC 11', 12:'AC 12', 13:'AC 13', 14:'AC 14',15: 'AC 15', 16:'AC 16', 17:'AC 17',\n",
    "       18:'AC 18'}\n",
    "# Draw Plot\n",
    "l=['AC 1', 'AC 2', 'AC 3', 'AC 4', 'AC 5', 'AC 6', 'AC 7', 'AC 8', 'AC 9',\n",
    "       'AC 10', 'AC 11', 'AC 12', 'AC 13', 'AC 14', 'AC 15', 'AC 16', 'AC 17',\n",
    "       'AC 18']\n",
    "def plot_df(d, x, y, title=\"\", xlabel='Date', ylabel='Value', dpi=100):\n",
    "    plt.figure(figsize=(16,5), dpi=dpi)\n",
    "    plt.plot(x, y, color='tab:red')\n",
    "    plt.gca().set(title=title, xlabel=xlabel, ylabel=ylabel)\n",
    "    plt.show()\n"
   ]
  },
  {
   "cell_type": "code",
   "execution_count": 49,
   "id": "23dece5f",
   "metadata": {},
   "outputs": [
    {
     "data": {
      "image/png": "[encoded data removed]",
      "text/plain": [
       "<Figure size 1600x500 with 1 Axes>"
      ]
     },
     "metadata": {},
     "output_type": "display_data"
    }
   ],
   "source": [
    "plot_df(data, x=data.index, y=data[liste[c]], title='Power Consumption ACs') "
   ]
  },
  {
   "cell_type": "code",
   "execution_count": 50,
   "id": "476a236b",
   "metadata": {},
   "outputs": [
    {
     "data": {
      "text/html": [
       "<div>\n",
       "<style scoped>\n",
       "    .dataframe tbody tr th:only-of-type {\n",
       "        vertical-align: middle;\n",
       "    }\n",
       "\n",
       "    .dataframe tbody tr th {\n",
       "        vertical-align: top;\n",
       "    }\n",
       "\n",
       "    .dataframe thead th {\n",
       "        text-align: right;\n",
       "    }\n",
       "</style>\n",
       "<table border=\"1\" class=\"dataframe\">\n",
       "  <thead>\n",
       "    <tr style=\"text-align: right;\">\n",
       "      <th></th>\n",
       "      <th>AC 1</th>\n",
       "      <th>AC 2</th>\n",
       "      <th>AC 3</th>\n",
       "      <th>AC 4</th>\n",
       "      <th>AC 5</th>\n",
       "      <th>AC 6</th>\n",
       "      <th>AC 7</th>\n",
       "      <th>AC 8</th>\n",
       "      <th>AC 9</th>\n",
       "      <th>AC 10</th>\n",
       "      <th>AC 11</th>\n",
       "      <th>AC 12</th>\n",
       "      <th>AC 13</th>\n",
       "      <th>AC 14</th>\n",
       "      <th>AC 15</th>\n",
       "      <th>AC 16</th>\n",
       "      <th>AC 17</th>\n",
       "      <th>AC 18</th>\n",
       "      <th>T2M</th>\n",
       "    </tr>\n",
       "  </thead>\n",
       "  <tbody>\n",
       "    <tr>\n",
       "      <th>count</th>\n",
       "      <td>1464.000000</td>\n",
       "      <td>1464.000000</td>\n",
       "      <td>1464.000000</td>\n",
       "      <td>1464.000000</td>\n",
       "      <td>1464.000000</td>\n",
       "      <td>1464.000000</td>\n",
       "      <td>1464.000000</td>\n",
       "      <td>1464.000000</td>\n",
       "      <td>1464.000000</td>\n",
       "      <td>1464.000000</td>\n",
       "      <td>1464.000000</td>\n",
       "      <td>1464.000000</td>\n",
       "      <td>1464.000000</td>\n",
       "      <td>1464.000000</td>\n",
       "      <td>1464.000000</td>\n",
       "      <td>1464.000000</td>\n",
       "      <td>1464.000000</td>\n",
       "      <td>1464.000000</td>\n",
       "      <td>1464.000000</td>\n",
       "    </tr>\n",
       "    <tr>\n",
       "      <th>mean</th>\n",
       "      <td>71.036491</td>\n",
       "      <td>115.514445</td>\n",
       "      <td>76.689178</td>\n",
       "      <td>71.501370</td>\n",
       "      <td>42.452874</td>\n",
       "      <td>75.194967</td>\n",
       "      <td>88.935799</td>\n",
       "      <td>76.085284</td>\n",
       "      <td>94.952885</td>\n",
       "      <td>45.908626</td>\n",
       "      <td>71.773354</td>\n",
       "      <td>80.607446</td>\n",
       "      <td>127.809174</td>\n",
       "      <td>87.067324</td>\n",
       "      <td>120.821899</td>\n",
       "      <td>83.599860</td>\n",
       "      <td>125.975726</td>\n",
       "      <td>193.010635</td>\n",
       "      <td>29.971066</td>\n",
       "    </tr>\n",
       "    <tr>\n",
       "      <th>std</th>\n",
       "      <td>62.222384</td>\n",
       "      <td>69.713686</td>\n",
       "      <td>36.942748</td>\n",
       "      <td>46.763036</td>\n",
       "      <td>15.300589</td>\n",
       "      <td>38.044783</td>\n",
       "      <td>32.541262</td>\n",
       "      <td>33.466595</td>\n",
       "      <td>33.965109</td>\n",
       "      <td>14.466557</td>\n",
       "      <td>37.049094</td>\n",
       "      <td>31.842020</td>\n",
       "      <td>44.399738</td>\n",
       "      <td>37.232070</td>\n",
       "      <td>51.766950</td>\n",
       "      <td>38.293750</td>\n",
       "      <td>28.889456</td>\n",
       "      <td>62.417622</td>\n",
       "      <td>3.489920</td>\n",
       "    </tr>\n",
       "    <tr>\n",
       "      <th>min</th>\n",
       "      <td>0.000000</td>\n",
       "      <td>0.000000</td>\n",
       "      <td>0.000000</td>\n",
       "      <td>0.000000</td>\n",
       "      <td>1.983627</td>\n",
       "      <td>0.000000</td>\n",
       "      <td>0.000000</td>\n",
       "      <td>0.000000</td>\n",
       "      <td>0.000000</td>\n",
       "      <td>0.000000</td>\n",
       "      <td>0.000000</td>\n",
       "      <td>0.000000</td>\n",
       "      <td>0.000000</td>\n",
       "      <td>0.000000</td>\n",
       "      <td>0.000000</td>\n",
       "      <td>13.211827</td>\n",
       "      <td>0.000000</td>\n",
       "      <td>0.000000</td>\n",
       "      <td>22.510000</td>\n",
       "    </tr>\n",
       "    <tr>\n",
       "      <th>25%</th>\n",
       "      <td>26.394744</td>\n",
       "      <td>64.451285</td>\n",
       "      <td>52.587095</td>\n",
       "      <td>39.142842</td>\n",
       "      <td>30.658488</td>\n",
       "      <td>49.793138</td>\n",
       "      <td>67.007483</td>\n",
       "      <td>53.654264</td>\n",
       "      <td>72.123669</td>\n",
       "      <td>35.665261</td>\n",
       "      <td>47.528061</td>\n",
       "      <td>59.163844</td>\n",
       "      <td>97.922275</td>\n",
       "      <td>60.262960</td>\n",
       "      <td>91.871769</td>\n",
       "      <td>55.590501</td>\n",
       "      <td>111.004076</td>\n",
       "      <td>136.207017</td>\n",
       "      <td>27.220000</td>\n",
       "    </tr>\n",
       "    <tr>\n",
       "      <th>50%</th>\n",
       "      <td>57.587046</td>\n",
       "      <td>113.889505</td>\n",
       "      <td>73.138123</td>\n",
       "      <td>65.925950</td>\n",
       "      <td>40.181725</td>\n",
       "      <td>76.885473</td>\n",
       "      <td>87.735276</td>\n",
       "      <td>75.210547</td>\n",
       "      <td>89.916422</td>\n",
       "      <td>44.741303</td>\n",
       "      <td>67.200975</td>\n",
       "      <td>78.877440</td>\n",
       "      <td>125.034052</td>\n",
       "      <td>81.672274</td>\n",
       "      <td>115.555089</td>\n",
       "      <td>76.120030</td>\n",
       "      <td>135.266577</td>\n",
       "      <td>207.751500</td>\n",
       "      <td>29.480000</td>\n",
       "    </tr>\n",
       "    <tr>\n",
       "      <th>75%</th>\n",
       "      <td>103.248487</td>\n",
       "      <td>155.684323</td>\n",
       "      <td>97.765439</td>\n",
       "      <td>99.578369</td>\n",
       "      <td>51.502409</td>\n",
       "      <td>102.147447</td>\n",
       "      <td>109.664215</td>\n",
       "      <td>97.701289</td>\n",
       "      <td>114.282802</td>\n",
       "      <td>55.002025</td>\n",
       "      <td>90.447895</td>\n",
       "      <td>100.322193</td>\n",
       "      <td>152.834627</td>\n",
       "      <td>110.569425</td>\n",
       "      <td>151.785386</td>\n",
       "      <td>105.301845</td>\n",
       "      <td>146.464405</td>\n",
       "      <td>243.016873</td>\n",
       "      <td>32.650000</td>\n",
       "    </tr>\n",
       "    <tr>\n",
       "      <th>max</th>\n",
       "      <td>294.294902</td>\n",
       "      <td>326.477464</td>\n",
       "      <td>240.479633</td>\n",
       "      <td>253.028241</td>\n",
       "      <td>115.607525</td>\n",
       "      <td>190.278883</td>\n",
       "      <td>227.694758</td>\n",
       "      <td>215.165564</td>\n",
       "      <td>250.060543</td>\n",
       "      <td>102.637559</td>\n",
       "      <td>285.384093</td>\n",
       "      <td>241.821750</td>\n",
       "      <td>277.649412</td>\n",
       "      <td>253.988777</td>\n",
       "      <td>288.449451</td>\n",
       "      <td>288.407798</td>\n",
       "      <td>168.391257</td>\n",
       "      <td>297.038352</td>\n",
       "      <td>38.690000</td>\n",
       "    </tr>\n",
       "  </tbody>\n",
       "</table>\n",
       "</div>"
      ],
      "text/plain": [
       "              AC 1         AC 2         AC 3         AC 4         AC 5  \\\n",
       "count  1464.000000  1464.000000  1464.000000  1464.000000  1464.000000   \n",
       "mean     71.036491   115.514445    76.689178    71.501370    42.452874   \n",
       "std      62.222384    69.713686    36.942748    46.763036    15.300589   \n",
       "min       0.000000     0.000000     0.000000     0.000000     1.983627   \n",
       "25%      26.394744    64.451285    52.587095    39.142842    30.658488   \n",
       "50%      57.587046   113.889505    73.138123    65.925950    40.181725   \n",
       "75%     103.248487   155.684323    97.765439    99.578369    51.502409   \n",
       "max     294.294902   326.477464   240.479633   253.028241   115.607525   \n",
       "\n",
       "              AC 6         AC 7         AC 8         AC 9        AC 10  \\\n",
       "count  1464.000000  1464.000000  1464.000000  1464.000000  1464.000000   \n",
       "mean     75.194967    88.935799    76.085284    94.952885    45.908626   \n",
       "std      38.044783    32.541262    33.466595    33.965109    14.466557   \n",
       "min       0.000000     0.000000     0.000000     0.000000     0.000000   \n",
       "25%      49.793138    67.007483    53.654264    72.123669    35.665261   \n",
       "50%      76.885473    87.735276    75.210547    89.916422    44.741303   \n",
       "75%     102.147447   109.664215    97.701289   114.282802    55.002025   \n",
       "max     190.278883   227.694758   215.165564   250.060543   102.637559   \n",
       "\n",
       "             AC 11        AC 12        AC 13        AC 14        AC 15  \\\n",
       "count  1464.000000  1464.000000  1464.000000  1464.000000  1464.000000   \n",
       "mean     71.773354    80.607446   127.809174    87.067324   120.821899   \n",
       "std      37.049094    31.842020    44.399738    37.232070    51.766950   \n",
       "min       0.000000     0.000000     0.000000     0.000000     0.000000   \n",
       "25%      47.528061    59.163844    97.922275    60.262960    91.871769   \n",
       "50%      67.200975    78.877440   125.034052    81.672274   115.555089   \n",
       "75%      90.447895   100.322193   152.834627   110.569425   151.785386   \n",
       "max     285.384093   241.821750   277.649412   253.988777   288.449451   \n",
       "\n",
       "             AC 16        AC 17        AC 18          T2M  \n",
       "count  1464.000000  1464.000000  1464.000000  1464.000000  \n",
       "mean     83.599860   125.975726   193.010635    29.971066  \n",
       "std      38.293750    28.889456    62.417622     3.489920  \n",
       "min      13.211827     0.000000     0.000000    22.510000  \n",
       "25%      55.590501   111.004076   136.207017    27.220000  \n",
       "50%      76.120030   135.266577   207.751500    29.480000  \n",
       "75%     105.301845   146.464405   243.016873    32.650000  \n",
       "max     288.407798   168.391257   297.038352    38.690000  "
      ]
     },
     "execution_count": 50,
     "metadata": {},
     "output_type": "execute_result"
    }
   ],
   "source": [
    "data.describe()"
   ]
  },
  {
   "cell_type": "markdown",
   "id": "ca70bf3a",
   "metadata": {},
   "source": [
    "Mean Consumption per hour of ACs"
   ]
  },
  {
   "cell_type": "code",
   "execution_count": 51,
   "id": "2480324f",
   "metadata": {
    "scrolled": true
   },
   "outputs": [
    {
     "data": {
      "text/plain": [
       "AC 1      71.036491\n",
       "AC 2     115.514445\n",
       "AC 3      76.689178\n",
       "AC 4      71.501370\n",
       "AC 5      42.452874\n",
       "AC 6      75.194967\n",
       "AC 7      88.935799\n",
       "AC 8      76.085284\n",
       "AC 9      94.952885\n",
       "AC 10     45.908626\n",
       "AC 11     71.773354\n",
       "AC 12     80.607446\n",
       "AC 13    127.809174\n",
       "AC 14     87.067324\n",
       "AC 15    120.821899\n",
       "AC 16     83.599860\n",
       "AC 17    125.975726\n",
       "AC 18    193.010635\n",
       "T2M       29.971066\n",
       "Name: mean, dtype: float64"
      ]
     },
     "execution_count": 51,
     "metadata": {},
     "output_type": "execute_result"
    }
   ],
   "source": [
    "data.describe().iloc[1,:]"
   ]
  },
  {
   "cell_type": "markdown",
   "id": "e6fe48f8",
   "metadata": {},
   "source": [
    "Hours Used"
   ]
  },
  {
   "cell_type": "code",
   "execution_count": 52,
   "id": "3acf210f",
   "metadata": {},
   "outputs": [
    {
     "data": {
      "text/plain": [
       "AC 1     29713\n",
       "AC 2     37554\n",
       "AC 3     38911\n",
       "AC 4     34131\n",
       "AC 5     39517\n",
       "AC 6     34689\n",
       "AC 7     39741\n",
       "AC 8     37083\n",
       "AC 9     40880\n",
       "AC 10    41440\n",
       "AC 11    36709\n",
       "AC 12    38832\n",
       "AC 13    41418\n",
       "AC 14    41950\n",
       "AC 15    39709\n",
       "AC 16    39209\n",
       "AC 17    42735\n",
       "AC 18    42323\n",
       "dtype: int64"
      ]
     },
     "execution_count": 52,
     "metadata": {},
     "output_type": "execute_result"
    }
   ],
   "source": [
    "d[d > 0].count()"
   ]
  },
  {
   "cell_type": "code",
   "execution_count": 53,
   "id": "031a65d9",
   "metadata": {},
   "outputs": [],
   "source": [
    "pattern=pd.concat([data.describe().iloc[1,:],d[d > 0].count()], axis=1, join=\"inner\")"
   ]
  },
  {
   "cell_type": "code",
   "execution_count": 64,
   "id": "09a8770d",
   "metadata": {},
   "outputs": [],
   "source": [
    "pattern.rename(columns={'mean':'Mean Consumption per hour of ACs',0:'Hours Used'},inplace=True)"
   ]
  },
  {
   "cell_type": "code",
   "execution_count": 68,
   "id": "2ff94559",
   "metadata": {},
   "outputs": [],
   "source": [
    "pattern['AC']=pattern.index"
   ]
  },
  {
   "cell_type": "code",
   "execution_count": 72,
   "id": "80283c46",
   "metadata": {},
   "outputs": [
    {
     "data": {
      "text/plain": [
       "<AxesSubplot:xlabel='AC'>"
      ]
     },
     "execution_count": 72,
     "metadata": {},
     "output_type": "execute_result"
    },
    {
     "data": {
      "image/png": "[encoded data removed]",
      "text/plain": [
       "<Figure size 720x360 with 1 Axes>"
      ]
     },
     "metadata": {},
     "output_type": "display_data"
    },
    {
     "data": {
      "image/png": "[encoded data removed]",
      "text/plain": [
       "<Figure size 842.4x595.44 with 1 Axes>"
      ]
     },
     "metadata": {},
     "output_type": "display_data"
    }
   ],
   "source": [
    "pattern.plot(x='AC', y=['Mean Consumption per hour of ACs' ], figsize=(10,5), grid=True)\n",
    "pattern.plot(x='AC', y=[ 'Hours Used'], kind=\"bar\")"
   ]
  }
 ],
 "metadata": {
  "kernelspec": {
   "display_name": "Python 3",
   "language": "python",
   "name": "python3"
  },
  "language_info": {
   "codemirror_mode": {
    "name": "ipython",
    "version": 3
   },
   "file_extension": ".py",
   "mimetype": "text/x-python",
   "name": "python",
   "nbconvert_exporter": "python",
   "pygments_lexer": "ipython3",
   "version": "3.8.8"
  }
 },
 "nbformat": 4,
 "nbformat_minor": 5
}
